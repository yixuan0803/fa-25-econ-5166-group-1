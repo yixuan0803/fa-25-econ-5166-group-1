{
 "cells": [
  {
   "cell_type": "markdown",
   "id": "cbd6343e",
   "metadata": {},
   "source": [
    "# Data Description\n",
    "- Background: Add game ID 413150's reviews.\n",
    "- date received: 20251007\n",
    "- Path to data file: https://steamdb.info/app/413150/charts/\n",
    "- Unit of observation: 3501\n",
    "- Sample period: 20160226-20250926\n",
    "- Definition for each variable: \n",
    "    - DateTime: Date from 20160226 to 20250926 at 00:00:00.\n",
    "    - Positive reviews: Total positive reviews before the date.\n",
    "    - Negative reviews: Total negative reviews before the date."
   ]
  },
  {
   "cell_type": "code",
   "execution_count": 1,
   "id": "ba40a8bc-5b61-4d96-847e-757405d3c284",
   "metadata": {},
   "outputs": [],
   "source": [
    "import pandas as pd"
   ]
  },
  {
   "cell_type": "markdown",
   "id": "da67183c-e756-47b8-8cd9-c8d28c51ce83",
   "metadata": {},
   "source": [
    "## Change for Your Own Data"
   ]
  },
  {
   "cell_type": "code",
   "execution_count": null,
   "id": "b04d31db-b69d-466e-9768-319361f08ed6",
   "metadata": {},
   "outputs": [],
   "source": [
    "reviews_413150 = \"/Users/sofia/Downloads/413150_reviews.csv\""
   ]
  },
  {
   "cell_type": "markdown",
   "id": "e79dc1ad-05be-42c0-93f3-fab99a8acdff",
   "metadata": {},
   "source": [
    "## Summary"
   ]
  },
  {
   "cell_type": "code",
   "execution_count": null,
   "id": "3fdc0d5f-ed39-4727-aa84-ee4e22759984",
   "metadata": {},
   "outputs": [],
   "source": [
    "df = pd.read_csv(reviews_413150)"
   ]
  },
  {
   "cell_type": "markdown",
   "id": "c2c7bba9-6d20-4d27-82c1-60f0f54ab4d4",
   "metadata": {},
   "source": [
    "### Sample"
   ]
  },
  {
   "cell_type": "code",
   "execution_count": 4,
   "id": "efe18b1d-dc13-44bc-93d0-dad9e3d9c1df",
   "metadata": {},
   "outputs": [
    {
     "data": {
      "text/html": [
       "<div>\n",
       "<style scoped>\n",
       "    .dataframe tbody tr th:only-of-type {\n",
       "        vertical-align: middle;\n",
       "    }\n",
       "\n",
       "    .dataframe tbody tr th {\n",
       "        vertical-align: top;\n",
       "    }\n",
       "\n",
       "    .dataframe thead th {\n",
       "        text-align: right;\n",
       "    }\n",
       "</style>\n",
       "<table border=\"1\" class=\"dataframe\">\n",
       "  <thead>\n",
       "    <tr style=\"text-align: right;\">\n",
       "      <th></th>\n",
       "      <th>DateTime</th>\n",
       "      <th>Positive reviews</th>\n",
       "      <th>Negative reviews</th>\n",
       "    </tr>\n",
       "  </thead>\n",
       "  <tbody>\n",
       "    <tr>\n",
       "      <th>0</th>\n",
       "      <td>2016-02-26 00:00:00</td>\n",
       "      <td>2</td>\n",
       "      <td>0</td>\n",
       "    </tr>\n",
       "    <tr>\n",
       "      <th>1</th>\n",
       "      <td>2016-02-27 00:00:00</td>\n",
       "      <td>199</td>\n",
       "      <td>-3</td>\n",
       "    </tr>\n",
       "    <tr>\n",
       "      <th>2</th>\n",
       "      <td>2016-02-28 00:00:00</td>\n",
       "      <td>815</td>\n",
       "      <td>-12</td>\n",
       "    </tr>\n",
       "    <tr>\n",
       "      <th>3</th>\n",
       "      <td>2016-02-29 00:00:00</td>\n",
       "      <td>1434</td>\n",
       "      <td>-16</td>\n",
       "    </tr>\n",
       "    <tr>\n",
       "      <th>4</th>\n",
       "      <td>2016-03-01 00:00:00</td>\n",
       "      <td>2066</td>\n",
       "      <td>-24</td>\n",
       "    </tr>\n",
       "    <tr>\n",
       "      <th>5</th>\n",
       "      <td>2016-03-02 00:00:00</td>\n",
       "      <td>2812</td>\n",
       "      <td>-31</td>\n",
       "    </tr>\n",
       "    <tr>\n",
       "      <th>6</th>\n",
       "      <td>2016-03-03 00:00:00</td>\n",
       "      <td>3487</td>\n",
       "      <td>-41</td>\n",
       "    </tr>\n",
       "    <tr>\n",
       "      <th>7</th>\n",
       "      <td>2016-03-04 00:00:00</td>\n",
       "      <td>4133</td>\n",
       "      <td>-45</td>\n",
       "    </tr>\n",
       "    <tr>\n",
       "      <th>8</th>\n",
       "      <td>2016-03-05 00:00:00</td>\n",
       "      <td>4672</td>\n",
       "      <td>-54</td>\n",
       "    </tr>\n",
       "    <tr>\n",
       "      <th>9</th>\n",
       "      <td>2016-03-06 00:00:00</td>\n",
       "      <td>5222</td>\n",
       "      <td>-63</td>\n",
       "    </tr>\n",
       "  </tbody>\n",
       "</table>\n",
       "</div>"
      ],
      "text/plain": [
       "              DateTime  Positive reviews  Negative reviews\n",
       "0  2016-02-26 00:00:00                 2                 0\n",
       "1  2016-02-27 00:00:00               199                -3\n",
       "2  2016-02-28 00:00:00               815               -12\n",
       "3  2016-02-29 00:00:00              1434               -16\n",
       "4  2016-03-01 00:00:00              2066               -24\n",
       "5  2016-03-02 00:00:00              2812               -31\n",
       "6  2016-03-03 00:00:00              3487               -41\n",
       "7  2016-03-04 00:00:00              4133               -45\n",
       "8  2016-03-05 00:00:00              4672               -54\n",
       "9  2016-03-06 00:00:00              5222               -63"
      ]
     },
     "execution_count": 4,
     "metadata": {},
     "output_type": "execute_result"
    }
   ],
   "source": [
    "df.head(10)"
   ]
  },
  {
   "cell_type": "markdown",
   "id": "dcb224e8-975c-45f6-9f93-037ca429c7a8",
   "metadata": {},
   "source": [
    "### Summary Stats"
   ]
  },
  {
   "cell_type": "code",
   "execution_count": 5,
   "id": "340d6776-59ae-446c-a926-84b5362b0f13",
   "metadata": {},
   "outputs": [
    {
     "data": {
      "text/html": [
       "<div>\n",
       "<style scoped>\n",
       "    .dataframe tbody tr th:only-of-type {\n",
       "        vertical-align: middle;\n",
       "    }\n",
       "\n",
       "    .dataframe tbody tr th {\n",
       "        vertical-align: top;\n",
       "    }\n",
       "\n",
       "    .dataframe thead th {\n",
       "        text-align: right;\n",
       "    }\n",
       "</style>\n",
       "<table border=\"1\" class=\"dataframe\">\n",
       "  <thead>\n",
       "    <tr style=\"text-align: right;\">\n",
       "      <th></th>\n",
       "      <th>Positive reviews</th>\n",
       "      <th>Negative reviews</th>\n",
       "    </tr>\n",
       "  </thead>\n",
       "  <tbody>\n",
       "    <tr>\n",
       "      <th>count</th>\n",
       "      <td>3511.000000</td>\n",
       "      <td>3511.000000</td>\n",
       "    </tr>\n",
       "    <tr>\n",
       "      <th>mean</th>\n",
       "      <td>346198.953859</td>\n",
       "      <td>-6707.368841</td>\n",
       "    </tr>\n",
       "    <tr>\n",
       "      <th>std</th>\n",
       "      <td>270401.023400</td>\n",
       "      <td>4231.547836</td>\n",
       "    </tr>\n",
       "    <tr>\n",
       "      <th>min</th>\n",
       "      <td>2.000000</td>\n",
       "      <td>-14535.000000</td>\n",
       "    </tr>\n",
       "    <tr>\n",
       "      <th>25%</th>\n",
       "      <td>94520.000000</td>\n",
       "      <td>-10025.500000</td>\n",
       "    </tr>\n",
       "    <tr>\n",
       "      <th>50%</th>\n",
       "      <td>283844.000000</td>\n",
       "      <td>-6568.000000</td>\n",
       "    </tr>\n",
       "    <tr>\n",
       "      <th>75%</th>\n",
       "      <td>554614.000000</td>\n",
       "      <td>-2751.000000</td>\n",
       "    </tr>\n",
       "    <tr>\n",
       "      <th>max</th>\n",
       "      <td>919972.000000</td>\n",
       "      <td>0.000000</td>\n",
       "    </tr>\n",
       "  </tbody>\n",
       "</table>\n",
       "</div>"
      ],
      "text/plain": [
       "       Positive reviews  Negative reviews\n",
       "count       3511.000000       3511.000000\n",
       "mean      346198.953859      -6707.368841\n",
       "std       270401.023400       4231.547836\n",
       "min            2.000000     -14535.000000\n",
       "25%        94520.000000     -10025.500000\n",
       "50%       283844.000000      -6568.000000\n",
       "75%       554614.000000      -2751.000000\n",
       "max       919972.000000          0.000000"
      ]
     },
     "execution_count": 5,
     "metadata": {},
     "output_type": "execute_result"
    }
   ],
   "source": [
    "df.describe()"
   ]
  }
 ],
 "metadata": {
  "kernelspec": {
   "display_name": "Python 3",
   "language": "python",
   "name": "python3"
  },
  "language_info": {
   "codemirror_mode": {
    "name": "ipython",
    "version": 3
   },
   "file_extension": ".py",
   "mimetype": "text/x-python",
   "name": "python",
   "nbconvert_exporter": "python",
   "pygments_lexer": "ipython3",
   "version": "3.13.7"
  }
 },
 "nbformat": 4,
 "nbformat_minor": 5
}
