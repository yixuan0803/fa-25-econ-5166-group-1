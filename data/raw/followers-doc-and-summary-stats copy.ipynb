{
 "cells": [
  {
   "cell_type": "markdown",
   "id": "cbd6343e",
   "metadata": {},
   "source": [
    "# Data Description\n",
    "- Background: Add all games' followers.\n",
    "- date received: 20251007\n",
    "- Path to data file: https://steamdb.info/app/413150/charts/\n",
    "- Unit of observation: 68804\n",
    "- Sample period: 20170904-20251013\n",
    "- Definition for each variable: \n",
    "    - DateTime: Date of each observations.\n",
    "    - Followers: Total followers of each game.\n"
   ]
  },
  {
   "cell_type": "code",
   "execution_count": 2,
   "id": "ba40a8bc-5b61-4d96-847e-757405d3c284",
   "metadata": {},
   "outputs": [],
   "source": [
    "import pandas as pd"
   ]
  },
  {
   "cell_type": "markdown",
   "id": "da67183c-e756-47b8-8cd9-c8d28c51ce83",
   "metadata": {},
   "source": [
    "## Change for Your Own Data"
   ]
  },
  {
   "cell_type": "code",
   "execution_count": 3,
   "id": "b04d31db-b69d-466e-9768-319361f08ed6",
   "metadata": {},
   "outputs": [],
   "source": [
    "followers = \"/Users/sofia/Downloads/games_csv/all_followers.csv\""
   ]
  },
  {
   "cell_type": "markdown",
   "id": "e79dc1ad-05be-42c0-93f3-fab99a8acdff",
   "metadata": {},
   "source": [
    "## Summary"
   ]
  },
  {
   "cell_type": "code",
   "execution_count": 4,
   "id": "3fdc0d5f-ed39-4727-aa84-ee4e22759984",
   "metadata": {},
   "outputs": [],
   "source": [
    "df = pd.read_csv(followers)"
   ]
  },
  {
   "cell_type": "markdown",
   "id": "c2c7bba9-6d20-4d27-82c1-60f0f54ab4d4",
   "metadata": {},
   "source": [
    "### Sample"
   ]
  },
  {
   "cell_type": "code",
   "execution_count": 5,
   "id": "efe18b1d-dc13-44bc-93d0-dad9e3d9c1df",
   "metadata": {},
   "outputs": [
    {
     "data": {
      "text/html": [
       "<div>\n",
       "<style scoped>\n",
       "    .dataframe tbody tr th:only-of-type {\n",
       "        vertical-align: middle;\n",
       "    }\n",
       "\n",
       "    .dataframe tbody tr th {\n",
       "        vertical-align: top;\n",
       "    }\n",
       "\n",
       "    .dataframe thead th {\n",
       "        text-align: right;\n",
       "    }\n",
       "</style>\n",
       "<table border=\"1\" class=\"dataframe\">\n",
       "  <thead>\n",
       "    <tr style=\"text-align: right;\">\n",
       "      <th></th>\n",
       "      <th>DateTime</th>\n",
       "      <th>Followers</th>\n",
       "      <th>GameID</th>\n",
       "    </tr>\n",
       "  </thead>\n",
       "  <tbody>\n",
       "    <tr>\n",
       "      <th>0</th>\n",
       "      <td>2019-07-20 00:00:00</td>\n",
       "      <td>300772</td>\n",
       "      <td>814380</td>\n",
       "    </tr>\n",
       "    <tr>\n",
       "      <th>1</th>\n",
       "      <td>2019-07-21 00:00:00</td>\n",
       "      <td>300878</td>\n",
       "      <td>814380</td>\n",
       "    </tr>\n",
       "    <tr>\n",
       "      <th>2</th>\n",
       "      <td>2019-07-22 00:00:00</td>\n",
       "      <td>301045</td>\n",
       "      <td>814380</td>\n",
       "    </tr>\n",
       "    <tr>\n",
       "      <th>3</th>\n",
       "      <td>2019-07-23 00:00:00</td>\n",
       "      <td>301190</td>\n",
       "      <td>814380</td>\n",
       "    </tr>\n",
       "    <tr>\n",
       "      <th>4</th>\n",
       "      <td>2019-07-24 00:00:00</td>\n",
       "      <td>301300</td>\n",
       "      <td>814380</td>\n",
       "    </tr>\n",
       "    <tr>\n",
       "      <th>5</th>\n",
       "      <td>2019-07-25 00:00:00</td>\n",
       "      <td>301463</td>\n",
       "      <td>814380</td>\n",
       "    </tr>\n",
       "    <tr>\n",
       "      <th>6</th>\n",
       "      <td>2019-07-26 00:00:00</td>\n",
       "      <td>301613</td>\n",
       "      <td>814380</td>\n",
       "    </tr>\n",
       "    <tr>\n",
       "      <th>7</th>\n",
       "      <td>2019-07-27 00:00:00</td>\n",
       "      <td>301750</td>\n",
       "      <td>814380</td>\n",
       "    </tr>\n",
       "    <tr>\n",
       "      <th>8</th>\n",
       "      <td>2019-07-28 00:00:00</td>\n",
       "      <td>301902</td>\n",
       "      <td>814380</td>\n",
       "    </tr>\n",
       "    <tr>\n",
       "      <th>9</th>\n",
       "      <td>2019-07-29 00:00:00</td>\n",
       "      <td>302027</td>\n",
       "      <td>814380</td>\n",
       "    </tr>\n",
       "  </tbody>\n",
       "</table>\n",
       "</div>"
      ],
      "text/plain": [
       "              DateTime  Followers  GameID\n",
       "0  2019-07-20 00:00:00     300772  814380\n",
       "1  2019-07-21 00:00:00     300878  814380\n",
       "2  2019-07-22 00:00:00     301045  814380\n",
       "3  2019-07-23 00:00:00     301190  814380\n",
       "4  2019-07-24 00:00:00     301300  814380\n",
       "5  2019-07-25 00:00:00     301463  814380\n",
       "6  2019-07-26 00:00:00     301613  814380\n",
       "7  2019-07-27 00:00:00     301750  814380\n",
       "8  2019-07-28 00:00:00     301902  814380\n",
       "9  2019-07-29 00:00:00     302027  814380"
      ]
     },
     "execution_count": 5,
     "metadata": {},
     "output_type": "execute_result"
    }
   ],
   "source": [
    "df.head(10)"
   ]
  },
  {
   "cell_type": "markdown",
   "id": "dcb224e8-975c-45f6-9f93-037ca429c7a8",
   "metadata": {},
   "source": [
    "### Summary Stats"
   ]
  },
  {
   "cell_type": "code",
   "execution_count": 6,
   "id": "340d6776-59ae-446c-a926-84b5362b0f13",
   "metadata": {},
   "outputs": [
    {
     "data": {
      "text/html": [
       "<div>\n",
       "<style scoped>\n",
       "    .dataframe tbody tr th:only-of-type {\n",
       "        vertical-align: middle;\n",
       "    }\n",
       "\n",
       "    .dataframe tbody tr th {\n",
       "        vertical-align: top;\n",
       "    }\n",
       "\n",
       "    .dataframe thead th {\n",
       "        text-align: right;\n",
       "    }\n",
       "</style>\n",
       "<table border=\"1\" class=\"dataframe\">\n",
       "  <thead>\n",
       "    <tr style=\"text-align: right;\">\n",
       "      <th></th>\n",
       "      <th>Followers</th>\n",
       "      <th>GameID</th>\n",
       "    </tr>\n",
       "  </thead>\n",
       "  <tbody>\n",
       "    <tr>\n",
       "      <th>count</th>\n",
       "      <td>6.880500e+04</td>\n",
       "      <td>6.880500e+04</td>\n",
       "    </tr>\n",
       "    <tr>\n",
       "      <th>mean</th>\n",
       "      <td>4.174513e+05</td>\n",
       "      <td>4.506700e+05</td>\n",
       "    </tr>\n",
       "    <tr>\n",
       "      <th>std</th>\n",
       "      <td>4.352206e+05</td>\n",
       "      <td>2.910588e+05</td>\n",
       "    </tr>\n",
       "    <tr>\n",
       "      <th>min</th>\n",
       "      <td>5.800000e+02</td>\n",
       "      <td>1.000000e+01</td>\n",
       "    </tr>\n",
       "    <tr>\n",
       "      <th>25%</th>\n",
       "      <td>1.564550e+05</td>\n",
       "      <td>2.448500e+05</td>\n",
       "    </tr>\n",
       "    <tr>\n",
       "      <th>50%</th>\n",
       "      <td>2.910850e+05</td>\n",
       "      <td>4.131500e+05</td>\n",
       "    </tr>\n",
       "    <tr>\n",
       "      <th>75%</th>\n",
       "      <td>5.360720e+05</td>\n",
       "      <td>5.886500e+05</td>\n",
       "    </tr>\n",
       "    <tr>\n",
       "      <th>max</th>\n",
       "      <td>2.760883e+06</td>\n",
       "      <td>1.145360e+06</td>\n",
       "    </tr>\n",
       "  </tbody>\n",
       "</table>\n",
       "</div>"
      ],
      "text/plain": [
       "          Followers        GameID\n",
       "count  6.880500e+04  6.880500e+04\n",
       "mean   4.174513e+05  4.506700e+05\n",
       "std    4.352206e+05  2.910588e+05\n",
       "min    5.800000e+02  1.000000e+01\n",
       "25%    1.564550e+05  2.448500e+05\n",
       "50%    2.910850e+05  4.131500e+05\n",
       "75%    5.360720e+05  5.886500e+05\n",
       "max    2.760883e+06  1.145360e+06"
      ]
     },
     "execution_count": 6,
     "metadata": {},
     "output_type": "execute_result"
    }
   ],
   "source": [
    "df.describe()"
   ]
  }
 ],
 "metadata": {
  "kernelspec": {
   "display_name": "Python 3",
   "language": "python",
   "name": "python3"
  },
  "language_info": {
   "codemirror_mode": {
    "name": "ipython",
    "version": 3
   },
   "file_extension": ".py",
   "mimetype": "text/x-python",
   "name": "python",
   "nbconvert_exporter": "python",
   "pygments_lexer": "ipython3",
   "version": "3.13.7"
  }
 },
 "nbformat": 4,
 "nbformat_minor": 5
}
