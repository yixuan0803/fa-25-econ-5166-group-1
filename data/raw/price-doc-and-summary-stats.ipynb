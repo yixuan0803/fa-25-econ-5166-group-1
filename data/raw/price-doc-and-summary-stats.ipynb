{
 "cells": [
  {
   "cell_type": "markdown",
   "id": "cbd6343e",
   "metadata": {},
   "source": [
    "# Data Description\n",
    "- Background: Add all games' price.\n",
    "- date received: 20251007\n",
    "- Path to data file: https://steamdb.info/app/413150/charts/\n",
    "- Unit of observation: 3711\n",
    "- Sample period: 20151104-20251014\n",
    "- Known issues:\n",
    "    - Some missing values.\n",
    "- Definition for each variable: \n",
    "    - DateTime: Date of price changing.\n",
    "    - Final price: Discount price.\n",
    "    - Historical Low: Lowest price before the date.\n",
    "    - GameID: Game's ID.\n",
    "\n"
   ]
  },
  {
   "cell_type": "code",
   "execution_count": 1,
   "id": "ba40a8bc-5b61-4d96-847e-757405d3c284",
   "metadata": {},
   "outputs": [],
   "source": [
    "import pandas as pd"
   ]
  },
  {
   "cell_type": "markdown",
   "id": "da67183c-e756-47b8-8cd9-c8d28c51ce83",
   "metadata": {},
   "source": [
    "## Change for Your Own Data"
   ]
  },
  {
   "cell_type": "code",
   "execution_count": 2,
   "id": "b04d31db-b69d-466e-9768-319361f08ed6",
   "metadata": {},
   "outputs": [],
   "source": [
    "price = \"/Users/sofia/Downloads/games_csv/all_price.csv\""
   ]
  },
  {
   "cell_type": "markdown",
   "id": "e79dc1ad-05be-42c0-93f3-fab99a8acdff",
   "metadata": {},
   "source": [
    "## Summary"
   ]
  },
  {
   "cell_type": "code",
   "execution_count": 4,
   "id": "3fdc0d5f-ed39-4727-aa84-ee4e22759984",
   "metadata": {},
   "outputs": [],
   "source": [
    "df = pd.read_csv(price)"
   ]
  },
  {
   "cell_type": "markdown",
   "id": "c2c7bba9-6d20-4d27-82c1-60f0f54ab4d4",
   "metadata": {},
   "source": [
    "### Sample"
   ]
  },
  {
   "cell_type": "code",
   "execution_count": 5,
   "id": "efe18b1d-dc13-44bc-93d0-dad9e3d9c1df",
   "metadata": {},
   "outputs": [
    {
     "data": {
      "text/html": [
       "<div>\n",
       "<style scoped>\n",
       "    .dataframe tbody tr th:only-of-type {\n",
       "        vertical-align: middle;\n",
       "    }\n",
       "\n",
       "    .dataframe tbody tr th {\n",
       "        vertical-align: top;\n",
       "    }\n",
       "\n",
       "    .dataframe thead th {\n",
       "        text-align: right;\n",
       "    }\n",
       "</style>\n",
       "<table border=\"1\" class=\"dataframe\">\n",
       "  <thead>\n",
       "    <tr style=\"text-align: right;\">\n",
       "      <th></th>\n",
       "      <th>DateTime</th>\n",
       "      <th>Final price</th>\n",
       "      <th>Historical Low</th>\n",
       "      <th>GameID</th>\n",
       "    </tr>\n",
       "  </thead>\n",
       "  <tbody>\n",
       "    <tr>\n",
       "      <th>0</th>\n",
       "      <td>2016-07-15 17:20:09</td>\n",
       "      <td>688.0</td>\n",
       "      <td>688.0</td>\n",
       "      <td>294100</td>\n",
       "    </tr>\n",
       "    <tr>\n",
       "      <th>1</th>\n",
       "      <td>2017-11-07 18:00:10</td>\n",
       "      <td>438.0</td>\n",
       "      <td>438.0</td>\n",
       "      <td>294100</td>\n",
       "    </tr>\n",
       "    <tr>\n",
       "      <th>2</th>\n",
       "      <td>2018-10-17 14:50:06</td>\n",
       "      <td>498.0</td>\n",
       "      <td>438.0</td>\n",
       "      <td>294100</td>\n",
       "    </tr>\n",
       "    <tr>\n",
       "      <th>3</th>\n",
       "      <td>2020-06-25 17:08:47</td>\n",
       "      <td>448.0</td>\n",
       "      <td>438.0</td>\n",
       "      <td>294100</td>\n",
       "    </tr>\n",
       "    <tr>\n",
       "      <th>4</th>\n",
       "      <td>2020-07-09 18:17:24</td>\n",
       "      <td>498.0</td>\n",
       "      <td>438.0</td>\n",
       "      <td>294100</td>\n",
       "    </tr>\n",
       "    <tr>\n",
       "      <th>5</th>\n",
       "      <td>2020-08-09 17:06:35</td>\n",
       "      <td>448.0</td>\n",
       "      <td>438.0</td>\n",
       "      <td>294100</td>\n",
       "    </tr>\n",
       "    <tr>\n",
       "      <th>6</th>\n",
       "      <td>2020-08-15 17:08:03</td>\n",
       "      <td>498.0</td>\n",
       "      <td>438.0</td>\n",
       "      <td>294100</td>\n",
       "    </tr>\n",
       "    <tr>\n",
       "      <th>7</th>\n",
       "      <td>2020-10-29 17:04:08</td>\n",
       "      <td>448.0</td>\n",
       "      <td>438.0</td>\n",
       "      <td>294100</td>\n",
       "    </tr>\n",
       "    <tr>\n",
       "      <th>8</th>\n",
       "      <td>2020-11-02 19:32:54</td>\n",
       "      <td>498.0</td>\n",
       "      <td>438.0</td>\n",
       "      <td>294100</td>\n",
       "    </tr>\n",
       "    <tr>\n",
       "      <th>9</th>\n",
       "      <td>2020-11-25 18:08:25</td>\n",
       "      <td>448.0</td>\n",
       "      <td>438.0</td>\n",
       "      <td>294100</td>\n",
       "    </tr>\n",
       "  </tbody>\n",
       "</table>\n",
       "</div>"
      ],
      "text/plain": [
       "              DateTime  Final price  Historical Low  GameID\n",
       "0  2016-07-15 17:20:09        688.0           688.0  294100\n",
       "1  2017-11-07 18:00:10        438.0           438.0  294100\n",
       "2  2018-10-17 14:50:06        498.0           438.0  294100\n",
       "3  2020-06-25 17:08:47        448.0           438.0  294100\n",
       "4  2020-07-09 18:17:24        498.0           438.0  294100\n",
       "5  2020-08-09 17:06:35        448.0           438.0  294100\n",
       "6  2020-08-15 17:08:03        498.0           438.0  294100\n",
       "7  2020-10-29 17:04:08        448.0           438.0  294100\n",
       "8  2020-11-02 19:32:54        498.0           438.0  294100\n",
       "9  2020-11-25 18:08:25        448.0           438.0  294100"
      ]
     },
     "execution_count": 5,
     "metadata": {},
     "output_type": "execute_result"
    }
   ],
   "source": [
    "df.head(10)"
   ]
  },
  {
   "cell_type": "markdown",
   "id": "dcb224e8-975c-45f6-9f93-037ca429c7a8",
   "metadata": {},
   "source": [
    "### Summary Stats"
   ]
  },
  {
   "cell_type": "code",
   "execution_count": 6,
   "id": "340d6776-59ae-446c-a926-84b5362b0f13",
   "metadata": {},
   "outputs": [
    {
     "data": {
      "text/html": [
       "<div>\n",
       "<style scoped>\n",
       "    .dataframe tbody tr th:only-of-type {\n",
       "        vertical-align: middle;\n",
       "    }\n",
       "\n",
       "    .dataframe tbody tr th {\n",
       "        vertical-align: top;\n",
       "    }\n",
       "\n",
       "    .dataframe thead th {\n",
       "        text-align: right;\n",
       "    }\n",
       "</style>\n",
       "<table border=\"1\" class=\"dataframe\">\n",
       "  <thead>\n",
       "    <tr style=\"text-align: right;\">\n",
       "      <th></th>\n",
       "      <th>Final price</th>\n",
       "      <th>Historical Low</th>\n",
       "      <th>GameID</th>\n",
       "    </tr>\n",
       "  </thead>\n",
       "  <tbody>\n",
       "    <tr>\n",
       "      <th>count</th>\n",
       "      <td>3682.000000</td>\n",
       "      <td>3700.000000</td>\n",
       "      <td>3.712000e+03</td>\n",
       "    </tr>\n",
       "    <tr>\n",
       "      <th>mean</th>\n",
       "      <td>350.836228</td>\n",
       "      <td>216.889446</td>\n",
       "      <td>4.456070e+05</td>\n",
       "    </tr>\n",
       "    <tr>\n",
       "      <th>std</th>\n",
       "      <td>294.088263</td>\n",
       "      <td>203.805338</td>\n",
       "      <td>2.678608e+05</td>\n",
       "    </tr>\n",
       "    <tr>\n",
       "      <th>min</th>\n",
       "      <td>0.000000</td>\n",
       "      <td>0.000000</td>\n",
       "      <td>1.000000e+01</td>\n",
       "    </tr>\n",
       "    <tr>\n",
       "      <th>25%</th>\n",
       "      <td>159.000000</td>\n",
       "      <td>73.000000</td>\n",
       "      <td>2.448500e+05</td>\n",
       "    </tr>\n",
       "    <tr>\n",
       "      <th>50%</th>\n",
       "      <td>318.000000</td>\n",
       "      <td>176.000000</td>\n",
       "      <td>4.131500e+05</td>\n",
       "    </tr>\n",
       "    <tr>\n",
       "      <th>75%</th>\n",
       "      <td>438.000000</td>\n",
       "      <td>279.000000</td>\n",
       "      <td>5.886500e+05</td>\n",
       "    </tr>\n",
       "    <tr>\n",
       "      <th>max</th>\n",
       "      <td>1834.000000</td>\n",
       "      <td>1834.000000</td>\n",
       "      <td>1.145360e+06</td>\n",
       "    </tr>\n",
       "  </tbody>\n",
       "</table>\n",
       "</div>"
      ],
      "text/plain": [
       "       Final price  Historical Low        GameID\n",
       "count  3682.000000     3700.000000  3.712000e+03\n",
       "mean    350.836228      216.889446  4.456070e+05\n",
       "std     294.088263      203.805338  2.678608e+05\n",
       "min       0.000000        0.000000  1.000000e+01\n",
       "25%     159.000000       73.000000  2.448500e+05\n",
       "50%     318.000000      176.000000  4.131500e+05\n",
       "75%     438.000000      279.000000  5.886500e+05\n",
       "max    1834.000000     1834.000000  1.145360e+06"
      ]
     },
     "execution_count": 6,
     "metadata": {},
     "output_type": "execute_result"
    }
   ],
   "source": [
    "df.describe()"
   ]
  }
 ],
 "metadata": {
  "kernelspec": {
   "display_name": "Python 3",
   "language": "python",
   "name": "python3"
  },
  "language_info": {
   "codemirror_mode": {
    "name": "ipython",
    "version": 3
   },
   "file_extension": ".py",
   "mimetype": "text/x-python",
   "name": "python",
   "nbconvert_exporter": "python",
   "pygments_lexer": "ipython3",
   "version": "3.13.7"
  }
 },
 "nbformat": 4,
 "nbformat_minor": 5
}
