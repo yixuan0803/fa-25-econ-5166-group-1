{
 "cells": [
  {
   "cell_type": "markdown",
   "id": "cbd6343e",
   "metadata": {},
   "source": [
    "# Data Description\n",
    "- Background: Add game ID 413150's followers.\n",
    "- date received: 20251007\n",
    "- Path to data file: https://steamdb.info/app/413150/charts/\n",
    "- Unit of observation: 2271\n",
    "- Sample period: 20190720-20251005\n",
    "- Definition for each variable: \n",
    "    - DateTime: Date from 20190920 to 20251005 at 00:00:00.\n",
    "    - Followers: Total followers.\n"
   ]
  },
  {
   "cell_type": "code",
   "execution_count": 1,
   "id": "ba40a8bc-5b61-4d96-847e-757405d3c284",
   "metadata": {},
   "outputs": [],
   "source": [
    "import pandas as pd"
   ]
  },
  {
   "cell_type": "markdown",
   "id": "da67183c-e756-47b8-8cd9-c8d28c51ce83",
   "metadata": {},
   "source": [
    "## Change for Your Own Data"
   ]
  },
  {
   "cell_type": "code",
   "execution_count": 3,
   "id": "b04d31db-b69d-466e-9768-319361f08ed6",
   "metadata": {},
   "outputs": [],
   "source": [
    "followers_413150 = \"/Users/sofia/Downloads/413150_followers.csv\""
   ]
  },
  {
   "cell_type": "markdown",
   "id": "e79dc1ad-05be-42c0-93f3-fab99a8acdff",
   "metadata": {},
   "source": [
    "## Summary"
   ]
  },
  {
   "cell_type": "code",
   "execution_count": 4,
   "id": "3fdc0d5f-ed39-4727-aa84-ee4e22759984",
   "metadata": {},
   "outputs": [],
   "source": [
    "df = pd.read_csv(followers_413150)"
   ]
  },
  {
   "cell_type": "markdown",
   "id": "c2c7bba9-6d20-4d27-82c1-60f0f54ab4d4",
   "metadata": {},
   "source": [
    "### Sample"
   ]
  },
  {
   "cell_type": "code",
   "execution_count": 5,
   "id": "efe18b1d-dc13-44bc-93d0-dad9e3d9c1df",
   "metadata": {},
   "outputs": [
    {
     "data": {
      "text/html": [
       "<div>\n",
       "<style scoped>\n",
       "    .dataframe tbody tr th:only-of-type {\n",
       "        vertical-align: middle;\n",
       "    }\n",
       "\n",
       "    .dataframe tbody tr th {\n",
       "        vertical-align: top;\n",
       "    }\n",
       "\n",
       "    .dataframe thead th {\n",
       "        text-align: right;\n",
       "    }\n",
       "</style>\n",
       "<table border=\"1\" class=\"dataframe\">\n",
       "  <thead>\n",
       "    <tr style=\"text-align: right;\">\n",
       "      <th></th>\n",
       "      <th>DateTime</th>\n",
       "      <th>Followers</th>\n",
       "    </tr>\n",
       "  </thead>\n",
       "  <tbody>\n",
       "    <tr>\n",
       "      <th>0</th>\n",
       "      <td>2019-07-20 00:00:00</td>\n",
       "      <td>451896</td>\n",
       "    </tr>\n",
       "    <tr>\n",
       "      <th>1</th>\n",
       "      <td>2019-07-21 00:00:00</td>\n",
       "      <td>451977</td>\n",
       "    </tr>\n",
       "    <tr>\n",
       "      <th>2</th>\n",
       "      <td>2019-07-22 00:00:00</td>\n",
       "      <td>452137</td>\n",
       "    </tr>\n",
       "    <tr>\n",
       "      <th>3</th>\n",
       "      <td>2019-07-23 00:00:00</td>\n",
       "      <td>452272</td>\n",
       "    </tr>\n",
       "    <tr>\n",
       "      <th>4</th>\n",
       "      <td>2019-07-24 00:00:00</td>\n",
       "      <td>452404</td>\n",
       "    </tr>\n",
       "    <tr>\n",
       "      <th>5</th>\n",
       "      <td>2019-07-25 00:00:00</td>\n",
       "      <td>452553</td>\n",
       "    </tr>\n",
       "    <tr>\n",
       "      <th>6</th>\n",
       "      <td>2019-07-26 00:00:00</td>\n",
       "      <td>452663</td>\n",
       "    </tr>\n",
       "    <tr>\n",
       "      <th>7</th>\n",
       "      <td>2019-07-27 00:00:00</td>\n",
       "      <td>452783</td>\n",
       "    </tr>\n",
       "    <tr>\n",
       "      <th>8</th>\n",
       "      <td>2019-07-28 00:00:00</td>\n",
       "      <td>452947</td>\n",
       "    </tr>\n",
       "    <tr>\n",
       "      <th>9</th>\n",
       "      <td>2019-07-29 00:00:00</td>\n",
       "      <td>453082</td>\n",
       "    </tr>\n",
       "  </tbody>\n",
       "</table>\n",
       "</div>"
      ],
      "text/plain": [
       "              DateTime  Followers\n",
       "0  2019-07-20 00:00:00     451896\n",
       "1  2019-07-21 00:00:00     451977\n",
       "2  2019-07-22 00:00:00     452137\n",
       "3  2019-07-23 00:00:00     452272\n",
       "4  2019-07-24 00:00:00     452404\n",
       "5  2019-07-25 00:00:00     452553\n",
       "6  2019-07-26 00:00:00     452663\n",
       "7  2019-07-27 00:00:00     452783\n",
       "8  2019-07-28 00:00:00     452947\n",
       "9  2019-07-29 00:00:00     453082"
      ]
     },
     "execution_count": 5,
     "metadata": {},
     "output_type": "execute_result"
    }
   ],
   "source": [
    "df.head(10)"
   ]
  },
  {
   "cell_type": "markdown",
   "id": "dcb224e8-975c-45f6-9f93-037ca429c7a8",
   "metadata": {},
   "source": [
    "### Summary Stats"
   ]
  },
  {
   "cell_type": "code",
   "execution_count": 6,
   "id": "340d6776-59ae-446c-a926-84b5362b0f13",
   "metadata": {},
   "outputs": [
    {
     "data": {
      "text/html": [
       "<div>\n",
       "<style scoped>\n",
       "    .dataframe tbody tr th:only-of-type {\n",
       "        vertical-align: middle;\n",
       "    }\n",
       "\n",
       "    .dataframe tbody tr th {\n",
       "        vertical-align: top;\n",
       "    }\n",
       "\n",
       "    .dataframe thead th {\n",
       "        text-align: right;\n",
       "    }\n",
       "</style>\n",
       "<table border=\"1\" class=\"dataframe\">\n",
       "  <thead>\n",
       "    <tr style=\"text-align: right;\">\n",
       "      <th></th>\n",
       "      <th>Followers</th>\n",
       "    </tr>\n",
       "  </thead>\n",
       "  <tbody>\n",
       "    <tr>\n",
       "      <th>count</th>\n",
       "      <td>2271.00000</td>\n",
       "    </tr>\n",
       "    <tr>\n",
       "      <th>mean</th>\n",
       "      <td>671241.63100</td>\n",
       "    </tr>\n",
       "    <tr>\n",
       "      <th>std</th>\n",
       "      <td>149615.60146</td>\n",
       "    </tr>\n",
       "    <tr>\n",
       "      <th>min</th>\n",
       "      <td>451896.00000</td>\n",
       "    </tr>\n",
       "    <tr>\n",
       "      <th>25%</th>\n",
       "      <td>545122.00000</td>\n",
       "    </tr>\n",
       "    <tr>\n",
       "      <th>50%</th>\n",
       "      <td>650772.00000</td>\n",
       "    </tr>\n",
       "    <tr>\n",
       "      <th>75%</th>\n",
       "      <td>772989.00000</td>\n",
       "    </tr>\n",
       "    <tr>\n",
       "      <th>max</th>\n",
       "      <td>992158.00000</td>\n",
       "    </tr>\n",
       "  </tbody>\n",
       "</table>\n",
       "</div>"
      ],
      "text/plain": [
       "          Followers\n",
       "count    2271.00000\n",
       "mean   671241.63100\n",
       "std    149615.60146\n",
       "min    451896.00000\n",
       "25%    545122.00000\n",
       "50%    650772.00000\n",
       "75%    772989.00000\n",
       "max    992158.00000"
      ]
     },
     "execution_count": 6,
     "metadata": {},
     "output_type": "execute_result"
    }
   ],
   "source": [
    "df.describe()"
   ]
  }
 ],
 "metadata": {
  "kernelspec": {
   "display_name": "Python 3",
   "language": "python",
   "name": "python3"
  },
  "language_info": {
   "codemirror_mode": {
    "name": "ipython",
    "version": 3
   },
   "file_extension": ".py",
   "mimetype": "text/x-python",
   "name": "python",
   "nbconvert_exporter": "python",
   "pygments_lexer": "ipython3",
   "version": "3.13.7"
  }
 },
 "nbformat": 4,
 "nbformat_minor": 5
}
