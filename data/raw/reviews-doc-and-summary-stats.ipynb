{
 "cells": [
  {
   "cell_type": "markdown",
   "id": "cbd6343e",
   "metadata": {},
   "source": [
    "# Data Description\n",
    "- Background: Add all games' reviews.\n",
    "- date received: 20251007\n",
    "- Path to data file: https://steamdb.info/app/413150/charts/\n",
    "- Unit of observation: 95639\n",
    "- Sample period: 20150513-20251013\n",
    "- Definition for each variable: \n",
    "    - DateTime: Date of each observations.\n",
    "    - Positive reviews: Total positive reviews before the date.\n",
    "    - Negative reviews: Total negative reviews before the date.\n",
    "    - GameID: Game's ID.\n"
   ]
  },
  {
   "cell_type": "code",
   "execution_count": 1,
   "id": "ba40a8bc-5b61-4d96-847e-757405d3c284",
   "metadata": {},
   "outputs": [],
   "source": [
    "import pandas as pd"
   ]
  },
  {
   "cell_type": "markdown",
   "id": "da67183c-e756-47b8-8cd9-c8d28c51ce83",
   "metadata": {},
   "source": [
    "## Change for Your Own Data"
   ]
  },
  {
   "cell_type": "code",
   "execution_count": 2,
   "id": "b04d31db-b69d-466e-9768-319361f08ed6",
   "metadata": {},
   "outputs": [],
   "source": [
    "reviews = \"/Users/sofia/Downloads/games_csv/all_reviews.csv\""
   ]
  },
  {
   "cell_type": "markdown",
   "id": "e79dc1ad-05be-42c0-93f3-fab99a8acdff",
   "metadata": {},
   "source": [
    "## Summary"
   ]
  },
  {
   "cell_type": "code",
   "execution_count": 3,
   "id": "3fdc0d5f-ed39-4727-aa84-ee4e22759984",
   "metadata": {},
   "outputs": [],
   "source": [
    "df = pd.read_csv(reviews)"
   ]
  },
  {
   "cell_type": "markdown",
   "id": "c2c7bba9-6d20-4d27-82c1-60f0f54ab4d4",
   "metadata": {},
   "source": [
    "### Sample"
   ]
  },
  {
   "cell_type": "code",
   "execution_count": 4,
   "id": "efe18b1d-dc13-44bc-93d0-dad9e3d9c1df",
   "metadata": {},
   "outputs": [
    {
     "data": {
      "text/html": [
       "<div>\n",
       "<style scoped>\n",
       "    .dataframe tbody tr th:only-of-type {\n",
       "        vertical-align: middle;\n",
       "    }\n",
       "\n",
       "    .dataframe tbody tr th {\n",
       "        vertical-align: top;\n",
       "    }\n",
       "\n",
       "    .dataframe thead th {\n",
       "        text-align: right;\n",
       "    }\n",
       "</style>\n",
       "<table border=\"1\" class=\"dataframe\">\n",
       "  <thead>\n",
       "    <tr style=\"text-align: right;\">\n",
       "      <th></th>\n",
       "      <th>DateTime</th>\n",
       "      <th>Positive reviews</th>\n",
       "      <th>Negative reviews</th>\n",
       "      <th>GameID</th>\n",
       "    </tr>\n",
       "  </thead>\n",
       "  <tbody>\n",
       "    <tr>\n",
       "      <th>0</th>\n",
       "      <td>2017-05-18 00:00:00</td>\n",
       "      <td>31</td>\n",
       "      <td>-2</td>\n",
       "      <td>457140</td>\n",
       "    </tr>\n",
       "    <tr>\n",
       "      <th>1</th>\n",
       "      <td>2017-05-19 00:00:00</td>\n",
       "      <td>145</td>\n",
       "      <td>-9</td>\n",
       "      <td>457140</td>\n",
       "    </tr>\n",
       "    <tr>\n",
       "      <th>2</th>\n",
       "      <td>2017-05-20 00:00:00</td>\n",
       "      <td>405</td>\n",
       "      <td>-18</td>\n",
       "      <td>457140</td>\n",
       "    </tr>\n",
       "    <tr>\n",
       "      <th>3</th>\n",
       "      <td>2017-05-21 00:00:00</td>\n",
       "      <td>556</td>\n",
       "      <td>-35</td>\n",
       "      <td>457140</td>\n",
       "    </tr>\n",
       "    <tr>\n",
       "      <th>4</th>\n",
       "      <td>2017-05-22 00:00:00</td>\n",
       "      <td>686</td>\n",
       "      <td>-41</td>\n",
       "      <td>457140</td>\n",
       "    </tr>\n",
       "    <tr>\n",
       "      <th>5</th>\n",
       "      <td>2017-05-23 00:00:00</td>\n",
       "      <td>800</td>\n",
       "      <td>-48</td>\n",
       "      <td>457140</td>\n",
       "    </tr>\n",
       "    <tr>\n",
       "      <th>6</th>\n",
       "      <td>2017-05-24 00:00:00</td>\n",
       "      <td>880</td>\n",
       "      <td>-54</td>\n",
       "      <td>457140</td>\n",
       "    </tr>\n",
       "    <tr>\n",
       "      <th>7</th>\n",
       "      <td>2017-05-25 00:00:00</td>\n",
       "      <td>961</td>\n",
       "      <td>-58</td>\n",
       "      <td>457140</td>\n",
       "    </tr>\n",
       "    <tr>\n",
       "      <th>8</th>\n",
       "      <td>2017-05-26 00:00:00</td>\n",
       "      <td>1054</td>\n",
       "      <td>-63</td>\n",
       "      <td>457140</td>\n",
       "    </tr>\n",
       "    <tr>\n",
       "      <th>9</th>\n",
       "      <td>2017-05-27 00:00:00</td>\n",
       "      <td>1112</td>\n",
       "      <td>-64</td>\n",
       "      <td>457140</td>\n",
       "    </tr>\n",
       "  </tbody>\n",
       "</table>\n",
       "</div>"
      ],
      "text/plain": [
       "              DateTime  Positive reviews  Negative reviews  GameID\n",
       "0  2017-05-18 00:00:00                31                -2  457140\n",
       "1  2017-05-19 00:00:00               145                -9  457140\n",
       "2  2017-05-20 00:00:00               405               -18  457140\n",
       "3  2017-05-21 00:00:00               556               -35  457140\n",
       "4  2017-05-22 00:00:00               686               -41  457140\n",
       "5  2017-05-23 00:00:00               800               -48  457140\n",
       "6  2017-05-24 00:00:00               880               -54  457140\n",
       "7  2017-05-25 00:00:00               961               -58  457140\n",
       "8  2017-05-26 00:00:00              1054               -63  457140\n",
       "9  2017-05-27 00:00:00              1112               -64  457140"
      ]
     },
     "execution_count": 4,
     "metadata": {},
     "output_type": "execute_result"
    }
   ],
   "source": [
    "df.head(10)"
   ]
  },
  {
   "cell_type": "markdown",
   "id": "dcb224e8-975c-45f6-9f93-037ca429c7a8",
   "metadata": {},
   "source": [
    "### Summary Stats"
   ]
  },
  {
   "cell_type": "code",
   "execution_count": 5,
   "id": "340d6776-59ae-446c-a926-84b5362b0f13",
   "metadata": {},
   "outputs": [
    {
     "data": {
      "text/html": [
       "<div>\n",
       "<style scoped>\n",
       "    .dataframe tbody tr th:only-of-type {\n",
       "        vertical-align: middle;\n",
       "    }\n",
       "\n",
       "    .dataframe tbody tr th {\n",
       "        vertical-align: top;\n",
       "    }\n",
       "\n",
       "    .dataframe thead th {\n",
       "        text-align: right;\n",
       "    }\n",
       "</style>\n",
       "<table border=\"1\" class=\"dataframe\">\n",
       "  <thead>\n",
       "    <tr style=\"text-align: right;\">\n",
       "      <th></th>\n",
       "      <th>Positive reviews</th>\n",
       "      <th>Negative reviews</th>\n",
       "      <th>GameID</th>\n",
       "    </tr>\n",
       "  </thead>\n",
       "  <tbody>\n",
       "    <tr>\n",
       "      <th>count</th>\n",
       "      <td>9.564000e+04</td>\n",
       "      <td>95640.000000</td>\n",
       "      <td>9.564000e+04</td>\n",
       "    </tr>\n",
       "    <tr>\n",
       "      <th>mean</th>\n",
       "      <td>1.363240e+05</td>\n",
       "      <td>-10571.398547</td>\n",
       "      <td>4.069084e+05</td>\n",
       "    </tr>\n",
       "    <tr>\n",
       "      <th>std</th>\n",
       "      <td>1.953392e+05</td>\n",
       "      <td>24086.093019</td>\n",
       "      <td>2.667470e+05</td>\n",
       "    </tr>\n",
       "    <tr>\n",
       "      <th>min</th>\n",
       "      <td>2.000000e+00</td>\n",
       "      <td>-179359.000000</td>\n",
       "      <td>1.000000e+01</td>\n",
       "    </tr>\n",
       "    <tr>\n",
       "      <th>25%</th>\n",
       "      <td>1.578100e+04</td>\n",
       "      <td>-9022.000000</td>\n",
       "      <td>2.442100e+05</td>\n",
       "    </tr>\n",
       "    <tr>\n",
       "      <th>50%</th>\n",
       "      <td>5.972250e+04</td>\n",
       "      <td>-3831.000000</td>\n",
       "      <td>3.812100e+05</td>\n",
       "    </tr>\n",
       "    <tr>\n",
       "      <th>75%</th>\n",
       "      <td>1.630330e+05</td>\n",
       "      <td>-1320.750000</td>\n",
       "      <td>5.484300e+05</td>\n",
       "    </tr>\n",
       "    <tr>\n",
       "      <th>max</th>\n",
       "      <td>1.145217e+06</td>\n",
       "      <td>0.000000</td>\n",
       "      <td>1.145360e+06</td>\n",
       "    </tr>\n",
       "  </tbody>\n",
       "</table>\n",
       "</div>"
      ],
      "text/plain": [
       "       Positive reviews  Negative reviews        GameID\n",
       "count      9.564000e+04      95640.000000  9.564000e+04\n",
       "mean       1.363240e+05     -10571.398547  4.069084e+05\n",
       "std        1.953392e+05      24086.093019  2.667470e+05\n",
       "min        2.000000e+00    -179359.000000  1.000000e+01\n",
       "25%        1.578100e+04      -9022.000000  2.442100e+05\n",
       "50%        5.972250e+04      -3831.000000  3.812100e+05\n",
       "75%        1.630330e+05      -1320.750000  5.484300e+05\n",
       "max        1.145217e+06          0.000000  1.145360e+06"
      ]
     },
     "execution_count": 5,
     "metadata": {},
     "output_type": "execute_result"
    }
   ],
   "source": [
    "df.describe()"
   ]
  }
 ],
 "metadata": {
  "kernelspec": {
   "display_name": "Python 3",
   "language": "python",
   "name": "python3"
  },
  "language_info": {
   "codemirror_mode": {
    "name": "ipython",
    "version": 3
   },
   "file_extension": ".py",
   "mimetype": "text/x-python",
   "name": "python",
   "nbconvert_exporter": "python",
   "pygments_lexer": "ipython3",
   "version": "3.13.7"
  }
 },
 "nbformat": 4,
 "nbformat_minor": 5
}
