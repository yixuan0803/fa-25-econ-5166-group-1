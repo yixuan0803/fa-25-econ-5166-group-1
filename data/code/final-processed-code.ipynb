{
 "cells": [
  {
   "cell_type": "markdown",
   "metadata": {},
   "source": [
    "# README\n",
    "\n",
    "- **Author**: `方珮潔`\n",
    "- **Created At**: `2025-10-12`\n",
    "- **Last Modified At**: `2025-10-12`\n",
    "\n",
    "---\n",
    "\n",
    "## What does this file do?\n",
    "\n",
    "- `<Describe the first purpose of this file>`\n",
    "- `<Describe the second purpose of this file>`\n",
    "- `<Add more if needed>`\n",
    "\n",
    "---\n",
    "\n",
    "## What does this file take?\n",
    "\n",
    "- **Source Data Sets**:  \n",
    "  1. `/data/raw/<INPUT_FILE_NAME>` \n",
    "    - Description: `<What does this input file contain?>` \n",
    "  2. `<Add more input files if needed>`\n",
    "  \n",
    "---\n",
    "\n",
    "## What does this file output?\n",
    "\n",
    "- `/data/final/<OUTPUT_FILE_NAME>`  \n",
    "  - Description: `<What does this output file contain?>`\n",
    "- `<Add more input files if needed>`"
   ]
  },
  {
   "cell_type": "markdown",
   "metadata": {},
   "source": [
    "# 程式碼"
   ]
  },
  {
   "cell_type": "markdown",
   "metadata": {},
   "source": [
    "## 資料檢查與前處理"
   ]
  },
  {
   "cell_type": "markdown",
   "metadata": {},
   "source": [
    "### 前置作業"
   ]
  },
  {
   "cell_type": "code",
   "execution_count": null,
   "metadata": {},
   "outputs": [],
   "source": [
    "# 後續所需套件引入\n",
    "import pandas as pd\n",
    "import numpy as np\n",
    "import matplotlib.pyplot as plt\n",
    "import seaborn as sns"
   ]
  },
  {
   "cell_type": "code",
   "execution_count": null,
   "metadata": {},
   "outputs": [],
   "source": [
    "# 地端資料表讀取\n",
    "merged_df = pd.read_csv(\"./all_games_merged.csv\")\n",
    "df = merged_df.copy()"
   ]
  },
  {
   "cell_type": "markdown",
   "metadata": {},
   "source": [
    "### 資料表形狀與前五列"
   ]
  },
  {
   "cell_type": "code",
   "execution_count": null,
   "metadata": {},
   "outputs": [],
   "source": [
    "# 資料表形狀\n",
    "print(\"\\n--- Shape ---\")\n",
    "print(df.shape)\n",
    "\n",
    "# 資料表前五列\n",
    "print(\"\\n--- Head 5 rows ---\")\n",
    "print(df.head())"
   ]
  },
  {
   "cell_type": "markdown",
   "metadata": {},
   "source": [
    "### 資料型態與缺失值"
   ]
  },
  {
   "cell_type": "code",
   "execution_count": null,
   "metadata": {},
   "outputs": [],
   "source": [
    "# 資料型態與缺失狀況\n",
    "print(\"\\n--- Data information ---\")\n",
    "print(df.info())"
   ]
  },
  {
   "cell_type": "code",
   "execution_count": null,
   "metadata": {},
   "outputs": [],
   "source": [
    "# 特定欄位資料型態轉換\n",
    "df['Date'] = pd.to_datetime(df['Date'], errors='coerce')\n",
    "df['ReleaseDate'] = pd.to_datetime(df['ReleaseDate'], errors='coerce')\n",
    "df['GameID'] = df['GameID'].astype(str)\n",
    "\n",
    "# 剩餘數值欄位轉為 float\n",
    "cat_cols = df.select_dtypes(include=['object', 'category']).columns\n",
    "exclude_cols = list(cat_cols) + ['Date', 'ReleaseDate']\n",
    "num_cols = df.columns.difference(exclude_cols)\n",
    "for col in num_cols:\n",
    "    try:\n",
    "        df[col] = df[col].astype(float)\n",
    "    except Exception as e:\n",
    "        print(f\"欄位 {col} 轉換失敗: {e}\")\n",
    "\n",
    "# 驗證型態轉換結果\n",
    "print(df.info())"
   ]
  },
  {
   "cell_type": "code",
   "execution_count": null,
   "metadata": {},
   "outputs": [],
   "source": [
    "# 缺失值補值"
   ]
  },
  {
   "cell_type": "markdown",
   "metadata": {},
   "source": [
    "### 數值欄位分佈"
   ]
  },
  {
   "cell_type": "code",
   "execution_count": null,
   "metadata": {},
   "outputs": [],
   "source": [
    "print(\"\\n--- Numerical Summary ---\")\n",
    "print(df[num_cols].describe())"
   ]
  },
  {
   "cell_type": "markdown",
   "metadata": {},
   "source": [
    "### 類別欄位分佈"
   ]
  },
  {
   "cell_type": "code",
   "execution_count": null,
   "metadata": {},
   "outputs": [],
   "source": [
    "print(\"\\n--- Categorical Summary ---\")\n",
    "for col in cat_cols[:]:\n",
    "    print(f\"\\nValue counts for {col}:\")\n",
    "    print(df[col].value_counts())\n",
    "\n",
    "    plt.figure(figsize=(6, 4))\n",
    "    sns.countplot(y=df[col], order=df[col].value_counts().index, palette=\"pastel\")\n",
    "    plt.title(f\"Category Distribution of {col}\")\n",
    "    plt.xlabel(\"Count\")\n",
    "    plt.ylabel(col)\n",
    "    plt.show()"
   ]
  },
  {
   "cell_type": "markdown",
   "metadata": {},
   "source": [
    "## 進階欄位生成"
   ]
  },
  {
   "cell_type": "markdown",
   "metadata": {},
   "source": [
    "### 折扣率"
   ]
  },
  {
   "cell_type": "code",
   "execution_count": null,
   "metadata": {},
   "outputs": [],
   "source": [
    "# 折扣率 = （原價 - 當下價格）/ 原價，因此為折扣率為正表示降價\n",
    "df['DiscountRate'] = (df['OriginPrice'] - df['Final price']) / df['OriginPrice']"
   ]
  },
  {
   "cell_type": "markdown",
   "metadata": {},
   "source": [
    "### 遊戲年齡"
   ]
  },
  {
   "cell_type": "code",
   "execution_count": null,
   "metadata": {},
   "outputs": [],
   "source": [
    "# 遊戲年齡（年） = 當下日期 - 推出日期\n",
    "df['Age'] = (df['Date'] - df['ReleaseDate']).dt.days / 365"
   ]
  },
  {
   "cell_type": "markdown",
   "metadata": {},
   "source": [
    "### 累積評價正面率、單日正負評價數"
   ]
  },
  {
   "cell_type": "code",
   "execution_count": null,
   "metadata": {},
   "outputs": [],
   "source": [
    "df['AccumulatedPositiveRate'] = df['Positive reviews'] / (df['Positive reviews'] - df['Negative reviews'])\n",
    "df['Positive reviews on that day'] = df['Positive reviews'] - df['Positive reviews'].shift(1)\n",
    "df['Negative reviews on that day'] = df['Negative reviews'] - df['Negative reviews'].shift(1)"
   ]
  },
  {
   "cell_type": "markdown",
   "metadata": {},
   "source": [
    "### 是否為平台促銷期"
   ]
  },
  {
   "cell_type": "code",
   "execution_count": null,
   "metadata": {},
   "outputs": [],
   "source": [
    "# 建立促銷期間表\n",
    "steam_sales = pd.DataFrame({\n",
    "    'sale_name': [\n",
    "        'Lunar New Year Sale 2023', 'Summer 2023', 'Autumn 2023', 'Winter 2023',\n",
    "        'Spring 2024', 'Summer 2024', 'Autumn 2024', 'Winter 2024',\n",
    "        'Spring 2025', 'Summer 2025'\n",
    "    ],\n",
    "    'start_date': pd.to_datetime([\n",
    "        '2023-01-18', '2023-06-29', '2023-11-21', '2023-12-21',\n",
    "        '2024-03-14', '2024-06-27', '2024-11-26', '2024-12-19',\n",
    "        '2025-03-13', '2025-06-26'\n",
    "    ]),\n",
    "    'end_date': pd.to_datetime([\n",
    "        '2023-01-27', '2023-07-13', '2023-11-28', '2024-01-04',\n",
    "        '2024-03-21', '2024-07-11', '2024-12-03', '2025-01-02',\n",
    "        '2025-03-20', '2025-07-10'\n",
    "    ])\n",
    "})\n",
    "\n",
    "# 新增欄位，預設為 0\n",
    "df['SalePeriod'] = 0\n",
    "\n",
    "# 逐一比對促銷期間\n",
    "for _, row in steam_sales.iterrows():\n",
    "    mask = (df['Date'] >= row['start_date']) & (df['Date'] <= row['end_date'])\n",
    "    df.loc[mask, 'SalePeriod'] = 1"
   ]
  },
  {
   "cell_type": "markdown",
   "metadata": {},
   "source": [
    "### 玩家數、正面率的指定期間移動平均增長率"
   ]
  },
  {
   "cell_type": "code",
   "execution_count": null,
   "metadata": {},
   "outputs": [],
   "source": [
    "def process_all_games(df):\n",
    "    def process_game(group):\n",
    "        group = group.sort_values('Date')\n",
    "        group.set_index('Date', inplace=True)\n",
    "        \n",
    "        # players 的移動平均\n",
    "        group['AvgPlayers1W'] = group['Players'].rolling(window='7D').mean()\n",
    "        group['AvgPlayers2W'] = group['Players'].rolling(window='14D').mean()\n",
    "        group['AvgPlayers1M'] = group['Players'].rolling(window='30D').mean()\n",
    "        # players MA 增長率\n",
    "        group['PlayersGrowthRate1W'] = group['AvgPlayers1W'].pct_change(periods=7)\n",
    "        group['PlayerGrowthRate2W'] = group['AvgPlayers2W'].pct_change(periods=14)\n",
    "        group['PlayerGrowthRate1M'] = group['AvgPlayers1M'].pct_change(periods=30)  \n",
    "\n",
    "        # positive reviews \n",
    "        group['PositiveReview1W'] = group['Positive reviews on that day'].rolling(window='7D').sum()\n",
    "        group['NegativeReview1W'] = group['Negative reviews on that day'].rolling(window='7D').sum()\n",
    "        group['PositiveReview2W'] = group['Positive reviews on that day'].rolling(window='14D').sum()\n",
    "        group['NegativeReview2W'] = group['Negative reviews on that day'].rolling(window='14D').sum()\n",
    "        group['PositiveReview1M'] = group['Positive reviews on that day'].rolling(window='30D').sum()\n",
    "        group['NegativeReview1M'] = group['Negative reviews on that day'].rolling(window='30D').sum()\n",
    "        # positive reviews 的移動平均\n",
    "        group['PositiveRate1W'] = np.where(\n",
    "            group['PositiveReview1W'] - group['NegativeReview1W'] == 0,\n",
    "            0, \n",
    "            group['PositiveReview1W'] / (group['PositiveReview1W'] - group['NegativeReview1W'])\n",
    "        )       \n",
    "        group['PositiveRate2W'] = np.where(\n",
    "            group['PositiveReview2W'] - group['NegativeReview2W'] == 0,\n",
    "            0, \n",
    "            group['PositiveReview2W'] / (group['PositiveReview2W'] - group['NegativeReview2W'])\n",
    "        )\n",
    "        group['PositiveRate1M'] = np.where(\n",
    "            group['PositiveReview1M'] - group['NegativeReview1M'] == 0,\n",
    "            0, \n",
    "            group['PositiveReview1M'] / (group['PositiveReview1M'] - group['NegativeReview1M'])\n",
    "        )\n",
    "        # positive reviews MA 增長率\n",
    "        group['PositiveRateGrowthRate1W'] = group['PositiveRate1W'].pct_change(periods=7)\n",
    "        group['PositiveRateGrowthRate2W'] = group['PositiveRate2W'].pct_change(periods=14)\n",
    "        group['PositiveRateGrowthRate1M'] = group['PositiveRate1M'].pct_change(periods=30)\n",
    "\n",
    "        return group\n",
    "\n",
    "    result = df.groupby('GameID', group_keys=False).apply(process_game).reset_index()\n",
    "    return result"
   ]
  },
  {
   "cell_type": "code",
   "execution_count": null,
   "metadata": {},
   "outputs": [],
   "source": [
    "df_final = process_all_games(df)"
   ]
  },
  {
   "cell_type": "markdown",
   "metadata": {},
   "source": [
    "### 欄位生成結果統整"
   ]
  },
  {
   "cell_type": "code",
   "execution_count": null,
   "metadata": {},
   "outputs": [],
   "source": [
    "# 確認欄位生成狀況\n",
    "print(df_final.head())"
   ]
  },
  {
   "cell_type": "code",
   "execution_count": null,
   "metadata": {},
   "outputs": [],
   "source": [
    "# 確認總欄位數\n",
    "print(df_final.columns)"
   ]
  },
  {
   "cell_type": "code",
   "execution_count": null,
   "metadata": {},
   "outputs": [],
   "source": [
    "# 確認數值欄位分布\n",
    "df_final.describe()"
   ]
  },
  {
   "cell_type": "code",
   "execution_count": null,
   "metadata": {},
   "outputs": [],
   "source": [
    "# 刪除不必要欄位\n",
    "df_final.drop(columns=['Players', 'Final price', 'Followers', 'Positive reviews', 'Negative reviews', 'ReleaseDate', 'OriginPrice', 'Positive reviews on that day', 'Negative reviews on that day', 'AvgPlayers1W', 'AvgPlayers2W', 'AvgPlayers1M', 'PositiveReview1W', 'NegativeReview1W', 'PositiveReview2W', 'NegativeReview2W', 'PositiveReview1M', 'NegativeReview1M'], inplace=True)"
   ]
  },
  {
   "cell_type": "code",
   "execution_count": null,
   "metadata": {},
   "outputs": [],
   "source": [
    "# 再確認總欄位數\n",
    "print(df_final.columns)"
   ]
  },
  {
   "cell_type": "markdown",
   "metadata": {},
   "source": [
    "## 將列改為折扣事件導向"
   ]
  },
  {
   "cell_type": "code",
   "execution_count": null,
   "metadata": {},
   "outputs": [],
   "source": [
    "# 依 GameID 與日期排序\n",
    "df_final = df_final.sort_values(['GameID', 'Date']).reset_index(drop=True)\n",
    "\n",
    "# 計算 DLC / Sequel 的累積總和\n",
    "df_final['cumulative_DLC'] = df_final.groupby('GameID')['DLC'].cumsum()\n",
    "df_final['cumulative_Sequel'] = df_final.groupby('GameID')['Sequel'].cumsum()\n",
    "\n",
    "# 找出每款遊戲上一次折扣時的累積值\n",
    "def calc_since_last_discount(group):\n",
    "    # 儲存結果\n",
    "    last_dlc = 0\n",
    "    last_seq = 0\n",
    "    dlc_since = []\n",
    "    seq_since = []\n",
    "    \n",
    "    for _, row in group.iterrows():\n",
    "        if row['DiscountRate'] != 0:\n",
    "            # 遇到折扣，計算上次折扣以來增加多少\n",
    "            dlc_since.append(row['cumulative_DLC'] - last_dlc)\n",
    "            seq_since.append(row['cumulative_Sequel'] - last_seq)\n",
    "            # 更新基準點\n",
    "            last_dlc = row['cumulative_DLC']\n",
    "            last_seq = row['cumulative_Sequel']\n",
    "        else:\n",
    "            dlc_since.append(None)\n",
    "            seq_since.append(None)\n",
    "    group['DLC_since_last_discount'] = dlc_since\n",
    "    group['Sequel_since_last_discount'] = seq_since\n",
    "    return group\n",
    "\n",
    "# 套用函數到每款遊戲\n",
    "df_final = df_final.groupby('GameID', group_keys=False).apply(calc_since_last_discount)\n",
    "\n",
    "# 只保留折扣事件\n",
    "df_result = df_final[df_final['DiscountRate'] != 0][\n",
    "    list(df_final.columns)\n",
    "].reset_index(drop=True)"
   ]
  },
  {
   "cell_type": "markdown",
   "metadata": {},
   "source": [
    "## 輸出結果檔案"
   ]
  },
  {
   "cell_type": "code",
   "execution_count": null,
   "metadata": {},
   "outputs": [],
   "source": [
    "# 欄位順序調整"
   ]
  },
  {
   "cell_type": "code",
   "execution_count": null,
   "metadata": {},
   "outputs": [],
   "source": [
    "df_result.to_csv('processed_data.csv', index=False, encoding='utf-8-sig')"
   ]
  }
 ],
 "metadata": {
  "kernelspec": {
   "display_name": "base",
   "language": "python",
   "name": "python3"
  },
  "language_info": {
   "name": "python",
   "version": "3.11.5"
  }
 },
 "nbformat": 4,
 "nbformat_minor": 2
}
