{
 "cells": [
  {
   "cell_type": "markdown",
   "id": "d4676f81",
   "metadata": {},
   "source": [
    "# README\n",
    "\n",
    "- **Author**: `黃書佑`\n",
    "- **Created At**: `2025-10-08`\n",
    "- **Last Modified At**: `2025-10-08`\n",
    "\n",
    "---\n",
    "\n",
    "## What does this file do?\n",
    "\n",
    "- `Merge each game's data.`\n",
    "- `Change 'DateTime' to 'Date'.`\n",
    "- `Select date from 2023-01-01 to 2025-08-31.`\n",
    "- `Remove the column 'Average Players'.`\n",
    "- `Remove the column 'Historical Low'.`\n",
    "- `Add a column 'GameID', which is the game's ID.`\n",
    "- `Add a column 'MultiPlayer' to verify if the game is multi-player.`\n",
    "- `Add a column 'ReleaseYear', which is the game's release year.`\n",
    "- `Add a column 'OriginalPrice', which is the game's released price.`\n",
    "- `Add a column 'FixDiscountRate' to check if the game has a constant discount rate.`\n",
    "\n",
    "---\n",
    "\n",
    "## What does this file take?\n",
    "\n",
    "- **Source Data Sets**:  \n",
    "  1. `/data/raw/followers_413150` \n",
    "    - Description: `The data contains date and followers from 2019-07-20 to 2025-10-05 at 00:00:00.` \n",
    "  2.  `/data/raw/players_413150` \n",
    "    - Description: `The data contains date, players and average players from 2015-12-01 to 2025-10-07 at 00:00:00.` \n",
    "  3. `/data/raw/price_413150` \n",
    "    - Description: `The data contains datetime, price and historical lowest price from 2016-02-26 to 2025-10-07.` \n",
    "  4.  `/data/raw/reviews_413150` \n",
    "    - Description: `The data contains date, positive reviews and negative reviews from 2016-02-26 to 2025-09-26 at 00:00:00.` \n",
    "  \n",
    "  \n",
    "---\n",
    "\n",
    "## What does this file output?\n",
    "\n",
    "- `/data/final/game_413150`  \n",
    "  - Description: `The row contains 'Date', 'Followers', 'Players', 'Price', 'Positive reviews', 'Negative reviews', 'GameID', 'MultiPlayer', 'ReleaseYear', 'OriginalPrice', 'FixDiscountRate'`\n"
   ]
  },
  {
   "cell_type": "code",
   "execution_count": 1,
   "id": "fdda822f",
   "metadata": {},
   "outputs": [],
   "source": [
    "# Load packages here\n",
    "import pandas as pd\n",
    "\n",
    "\n"
   ]
  },
  {
   "cell_type": "code",
   "execution_count": null,
   "id": "99e691c8",
   "metadata": {},
   "outputs": [],
   "source": [
    "# Load input here\n",
    "\n",
    "\n"
   ]
  },
  {
   "cell_type": "code",
   "execution_count": null,
   "id": "34b49c88",
   "metadata": {},
   "outputs": [],
   "source": [
    "# 1. 刪除 price 表裡的 Historical Low 欄位\n",
    "if \"Historical Low\" in price.columns:\n",
    "    price.drop(columns=[\"Historical Low\"], inplace=True)\n",
    "\n",
    "# 2. 刪除 players 表裡的 Average Players 欄位\n",
    "if \"Average Players\" in players.columns:\n",
    "    players.drop(columns=[\"Average Players\"], inplace=True)\n",
    "\n",
    "# 3. 將 DateTime 欄位改成 Date（僅保留日期）\n",
    "def fix_date_column(df):\n",
    "    if \"DateTime\" in df.columns:\n",
    "        df[\"Date\"] = pd.to_datetime(df[\"DateTime\"]).dt.date\n",
    "        df.drop(columns=[\"DateTime\"], inplace=True)\n",
    "    elif \"Date\" in df.columns:\n",
    "        df[\"Date\"] = pd.to_datetime(df[\"Date\"]).dt.date\n",
    "    return df\n",
    "\n",
    "players = fix_date_column(players)\n",
    "price = fix_date_column(price)\n",
    "reviews = fix_date_column(reviews)\n",
    "\n",
    "# 4. 只保留 2023-01-01 到 2025-08-31 的資料\n",
    "start_date = pd.to_datetime(\"2023-01-01\").date()\n",
    "end_date = pd.to_datetime(\"2025-08-31\").date()\n",
    "\n",
    "players = players[(players[\"Date\"] >= start_date) & (players[\"Date\"] <= end_date)]\n",
    "price = price[(price[\"Date\"] >= start_date) & (price[\"Date\"] <= end_date)]\n",
    "reviews = reviews[(reviews[\"Date\"] >= start_date) & (reviews[\"Date\"] <= end_date)]\n",
    "\n",
    "# 5. 合併 price 和 reviews 到 players\n",
    "merged = players.merge(price, on=\"Date\", how=\"left\").merge(reviews, on=\"Date\", how=\"left\")\n",
    "\n",
    "# price 缺值填補為 398\n",
    "if \"price\" in merged.columns:\n",
    "    merged[\"price\"].fillna(398, inplace=True)\n",
    "\n",
    "# 顯示前五筆結果\n",
    "merged.head()\n"
   ]
  }
 ],
 "metadata": {
  "kernelspec": {
   "display_name": "Python 3",
   "language": "python",
   "name": "python3"
  },
  "language_info": {
   "codemirror_mode": {
    "name": "ipython",
    "version": 3
   },
   "file_extension": ".py",
   "mimetype": "text/x-python",
   "name": "python",
   "nbconvert_exporter": "python",
   "pygments_lexer": "ipython3",
   "version": "3.13.7"
  }
 },
 "nbformat": 4,
 "nbformat_minor": 5
}
